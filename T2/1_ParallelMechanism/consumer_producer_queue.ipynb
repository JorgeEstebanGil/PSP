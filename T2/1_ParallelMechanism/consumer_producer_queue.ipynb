{
  "cells": [
    {
      "cell_type": "code",
      "execution_count": 1,
      "metadata": {},
      "outputs": [],
      "source": [
        "import time\n",
        "import threading\n",
        "import random\n",
        "import queue as Queue\n"
      ]
    },
    {
      "cell_type": "code",
      "execution_count": 2,
      "metadata": {},
      "outputs": [],
      "source": [
        "\n",
        "class Producer(threading.Thread):\n",
        "    \"\"\"\n",
        "    Produces random integers to a list\n",
        "    \"\"\"\n",
        "\n",
        "    def __init__(self, queue):\n",
        "        \"\"\"\n",
        "        Constructor.\n",
        "\n",
        "        @param integers list of integers\n",
        "        @param queue queue synchronization object\n",
        "        \"\"\"\n",
        "        threading.Thread.__init__(self)\n",
        "        self.queue = queue\n",
        "    \n",
        "    def run(self):\n",
        "        \"\"\"\n",
        "        Thread run method. Append random integers to the integers\n",
        "        list at random time.\n",
        "        \"\"\"\n",
        "        while True:\n",
        "            integer = random.randint(0, 256)\n",
        "            self.queue.put(integer) \n",
        "            print ('%d put to queue by %s' % (integer, self.name))\n",
        "            time.sleep(1)\n"
      ]
    },
    {
      "cell_type": "code",
      "execution_count": 4,
      "metadata": {},
      "outputs": [],
      "source": [
        "\n",
        "class Consumer(threading.Thread):\n",
        "    \"\"\"\n",
        "    Consumes random integers from a list\n",
        "    \"\"\"\n",
        "\n",
        "    def __init__(self, queue):\n",
        "        \"\"\"\n",
        "        Constructor.\n",
        "\n",
        "        @param integers list of integers\n",
        "        @param queue queue synchronization object\n",
        "        \"\"\"\n",
        "        threading.Thread.__init__(self)\n",
        "        self.queue = queue\n",
        "    \n",
        "    def run(self):\n",
        "        \"\"\"\n",
        "        Thread run method. Consumes integers from list\n",
        "        \"\"\"\n",
        "        while True:\n",
        "            integer = self.queue.get()\n",
        "            print ('%d popped from list by %s' % (integer, self.name))\n",
        "            self.queue.task_done()\n"
      ]
    },
    {
      "cell_type": "code",
      "execution_count": 5,
      "metadata": {},
      "outputs": [],
      "source": [
        "\n",
        "def main():\n",
        "    integers = []\n",
        "    queue = Queue.Queue()\n",
        "    t1 = Producer(queue)\n",
        "    t2 = Consumer(queue)\n",
        "    t1.start()\n",
        "    t2.start()\n",
        "    t1.join()\n",
        "    t2.join()\n"
      ]
    },
    {
      "cell_type": "code",
      "execution_count": 6,
      "metadata": {},
      "outputs": [
        {
          "name": "stdout",
          "output_type": "stream",
          "text": [
            "156 put to queue by Thread-5\n",
            "156 popped from list by Thread-6\n",
            "239 put to queue by Thread-5239 popped from list by Thread-6\n",
            "\n",
            "229 put to queue by Thread-5229 popped from list by Thread-6\n",
            "\n",
            "149 put to queue by Thread-5149 popped from list by Thread-6\n",
            "\n",
            "153 put to queue by Thread-5153 popped from list by Thread-6\n",
            "\n",
            "75 put to queue by Thread-575 popped from list by Thread-6\n",
            "\n",
            "113 put to queue by Thread-5113 popped from list by Thread-6\n",
            "\n",
            "226 put to queue by Thread-5226 popped from list by Thread-6\n",
            "\n",
            "193 put to queue by Thread-5193 popped from list by Thread-6\n",
            "\n",
            "112 put to queue by Thread-5112 popped from list by Thread-6\n",
            "\n",
            "41 put to queue by Thread-541 popped from list by Thread-6\n",
            "\n",
            "183 put to queue by Thread-5183 popped from list by Thread-6\n",
            "\n",
            "33 put to queue by Thread-533 popped from list by Thread-6\n",
            "\n",
            "62 put to queue by Thread-562 popped from list by Thread-6\n",
            "\n",
            "106 put to queue by Thread-5106 popped from list by Thread-6\n",
            "\n",
            "15 put to queue by Thread-515 popped from list by Thread-6\n",
            "\n",
            "15 put to queue by Thread-515 popped from list by Thread-6\n",
            "\n",
            "46 put to queue by Thread-546 popped from list by Thread-6\n",
            "\n",
            "237 put to queue by Thread-5237 popped from list by Thread-6\n",
            "\n",
            "11 put to queue by Thread-511 popped from list by Thread-6\n",
            "\n",
            "86 put to queue by Thread-586 popped from list by Thread-6\n",
            "\n",
            "163 put to queue by Thread-5163 popped from list by Thread-6\n",
            "\n",
            "175 put to queue by Thread-5175 popped from list by Thread-6\n",
            "\n",
            "184 put to queue by Thread-5184 popped from list by Thread-6\n",
            "\n",
            "118 put to queue by Thread-5118 popped from list by Thread-6\n",
            "\n",
            "147 put to queue by Thread-5147 popped from list by Thread-6\n",
            "\n",
            "82 put to queue by Thread-582 popped from list by Thread-6\n",
            "\n",
            "88 put to queue by Thread-588 popped from list by Thread-6\n",
            "\n"
          ]
        }
      ],
      "source": [
        "\n",
        "if __name__ == '__main__':\n",
        "    main()\n",
        " \n"
      ]
    }
  ],
  "metadata": {
    "anaconda-cloud": {},
    "kernelspec": {
      "display_name": "Python 3.9.13 64-bit (microsoft store)",
      "language": "python",
      "name": "python3"
    },
    "language_info": {
      "codemirror_mode": {
        "name": "ipython",
        "version": 3
      },
      "file_extension": ".py",
      "mimetype": "text/x-python",
      "name": "python",
      "nbconvert_exporter": "python",
      "pygments_lexer": "ipython3",
      "version": "3.11.5"
    },
    "vscode": {
      "interpreter": {
        "hash": "8344beb2e3695cc865366b87c9e795fe295d5e1a75013da0c7029a373688a8d6"
      }
    }
  },
  "nbformat": 4,
  "nbformat_minor": 4
}
